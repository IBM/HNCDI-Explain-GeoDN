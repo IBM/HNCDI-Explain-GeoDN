{
 "cells": [
  {
   "attachments": {},
   "cell_type": "markdown",
   "id": "f4257310-b487-419a-9ee6-08919c03e803",
   "metadata": {},
   "source": [
    "# GeoDN Course 2: Fundamentals of Geospatial Data and Modeling - Part 2 Geospatial Foundation Models and Workflows #\n",
    "> Copyright (c) 2024 International Business Machines Corporation\n",
    "\n",
    "> This software is released under the MIT License.\n",
    "> https://opensource.org/licenses/MIT\n",
    "\n",
    "# Section 3 - GeoDN Modelling; Running a workflow from the catalogue\n",
    "This example notebook will walk you through the process of running a workflow using a definition already stored in the workflow catalogue.  This is the way that most GeoDN Modeling workflows should be run.  \n",
    "\n",
    "In order to run a workflow from the catalogue, a user needs to just specify the parameters available for that workflow.  The process is as follows:\n",
    "\n",
    "1) Import packages and specify GeoDN Modeling URLs.\n",
    "2) Grab an authentication token using the GeoDN SDK.\n",
    "3) Create a connection to the GeoDN Modeling Workflow API.\n",
    "4) Browser the available workflows.\n",
    "5) Select a workflow and update the workflow options.\n",
    "6) Send it to the cluster to run.\n",
    "7) Monitor the workflow run status.\n",
    "8) Download and view the output files.\n",
    "9) Check a list of past workflow runs.\n",
    "\n",
    "## 1. Imports and setup"
   ]
  },
  {
   "cell_type": "code",
   "execution_count": null,
   "id": "357c01ca",
   "metadata": {},
   "outputs": [],
   "source": [
    "from geodn.modeling import workflow\n",
    "\n",
    "import os\n",
    "import json\n",
    "from PIL import Image"
   ]
  },
  {
   "attachments": {},
   "cell_type": "markdown",
   "id": "fab67b69-da60-4680-a83e-aa66374e93ff",
   "metadata": {},
   "source": [
    "## 2. Authenticate to GeoDN\n",
    "\n",
    "To authenticate to the GeoDN services, add your username and password to the file `~/geodn-creds`, which can be found in the home folder. The format should be `your-username:your-password`. \n",
    "\n",
    "Once updated, we can use the `getToken()` function to get an authentication token which will later be used to access the GeoDN services. The `get_token()` function takes three parameters, `username`, `password` and `geodn_modeling_url`, which are your username, your password and the URL of the GeoDN backend service to connect to, respectively. \n",
    "\n",
    "These tokens will expire after 24 hours. To also return a refresh_token, pass `refresh=True` to `getToken()`."
   ]
  },
  {
   "cell_type": "code",
   "execution_count": null,
   "id": "7327f8ec",
   "metadata": {},
   "outputs": [],
   "source": [
    "with open(\"../..\" + '/geodn-creds', 'r') as file:\n",
    "    data = file.read().rstrip()\n",
    "    username = data.split(':')[0]\n",
    "    password = data.split(':')[1]\n",
    "\n",
    "assert username and password\n",
    "\n",
    "# Get the tokens\n",
    "id_token, access_token = workflow.get_token(username, password, geodn_modeling_url=os.environ[\"GEODN_URL\"])\n",
    "assert id_token and access_token"
   ]
  },
  {
   "attachments": {},
   "cell_type": "markdown",
   "id": "fd6732ea-aa17-420b-a02a-fbbeb32202a8",
   "metadata": {},
   "source": [
    "## 3. Connect to GeoDN modeling\n",
    "\n",
    "And finally, we can connect to the GeoDN Modeling service. Here you will pass the token and create the connection to the GeoDN Modeling APIs. This will allow you to submit models to the cluster, check status, access logs and download files.\n",
    "\n",
    "To determine which backend service to connect to, we use the arguments `geodn_modeling_url`, `core_url` and `workflow_url`. These have been set as environment variables but can be configured if in the future you require a connection to a different backend service. "
   ]
  },
  {
   "cell_type": "code",
   "execution_count": null,
   "id": "c2488143-28c9-46c5-ac57-4b73fe38439d",
   "metadata": {},
   "outputs": [],
   "source": [
    "# Connect with the GeoDN Modeling APIs\n",
    "geodn_modelling = workflow.GeoDN_Modeling(\n",
    "    bearer_token=id_token,\n",
    "    api_url=os.environ[\"GEODN_URL\"],\n",
    "    core_url=os.environ[\"GEODN_CORE_URL\"],\n",
    "    workflow_url=os.environ[\"GEODN_WORKFLOW_URL\"],\n",
    ")"
   ]
  },
  {
   "attachments": {},
   "cell_type": "markdown",
   "id": "22dabbe6-8bbd-49c3-9937-3fd36f8226f4",
   "metadata": {},
   "source": [
    "## 4. Choose a workflow from the catalogue\n",
    "\n",
    "You can query the workflow catalogue to view the workflows available, and see an example of the payload required to run them.\n",
    "\n",
    "```python\n",
    "workflows = geodn_modelling.available_workflows()\n",
    "```\n",
    "\n",
    "Alternatively, you can use the notebook UI to browse the available options."
   ]
  },
  {
   "cell_type": "code",
   "execution_count": null,
   "id": "4a8e8328-968c-4628-8ec4-6c1b509ee110",
   "metadata": {},
   "outputs": [],
   "source": [
    "geodn_modelling.available_workflows_ui()"
   ]
  },
  {
   "attachments": {},
   "cell_type": "markdown",
   "id": "f0e4f1d1-d844-4735-9028-0db1097a9642",
   "metadata": {},
   "source": [
    "## 5. Get and update workflow options\n",
    "Once you have picked a workflow, we can grab the example payload and adapt that as we wish.  In this example using the onboarded `explain_air_pollution_v1` workflow.\n",
    "\n",
    "Firstly, we will grab the payload for the chosen workflow, if you have selected it from the dropdown above, the sdk will already know which experiment, otherwise you can pass the workflow name and set it as an attribute `geodn_modelling.wf_name=explain_air_pollution_v1`.  Whilst the function can push the payload to a file, it will by default create a new notebook cell right underneath with the payload dictionary ready for you to update.  You can either update values there before executing the cell, or update later.\n"
   ]
  },
  {
   "cell_type": "code",
   "execution_count": null,
   "id": "ec12d74e",
   "metadata": {},
   "outputs": [],
   "source": [
    "geodn_modelling.wf_name = \"explain_air_pollution_v1\""
   ]
  },
  {
   "cell_type": "code",
   "execution_count": null,
   "id": "dcf06f30-273b-45bc-b61c-a2948fc7fa24",
   "metadata": {},
   "outputs": [],
   "source": [
    "# Initialise Workflow Payload\n",
    "geodn_modelling.payload_to()"
   ]
  },
  {
   "attachments": {},
   "cell_type": "markdown",
   "id": "af90c02d-1962-4a6a-96f8-7b2f574ac07f",
   "metadata": {},
   "source": [
    "## 6. Run the workflow in GeoDN Modeling\n",
    "Once you have updated all the options you want to, you can send the workflow to be run on the GeoDN Modeling cluster. To do that simply run `submit_workflow()` giving it the payload.  You should get back a response saying that the workflow has been submitted.  This includes the `model_run_id` which is the identifier for the workflow run you just initiated, you will use this to monitor status and access files.\n"
   ]
  },
  {
   "cell_type": "code",
   "execution_count": null,
   "id": "8821fd2c",
   "metadata": {},
   "outputs": [],
   "source": [
    "# Check Workflow\n",
    "geodn_modelling.workflow_to()"
   ]
  },
  {
   "cell_type": "code",
   "execution_count": null,
   "id": "6b70d4a7-f575-4acd-a8dd-d21ddb785436",
   "metadata": {
    "tags": []
   },
   "outputs": [],
   "source": [
    "resp = geodn_modelling.submit_workflow(payload)\n",
    "print(json.dumps(resp, indent=1))"
   ]
  },
  {
   "attachments": {},
   "cell_type": "markdown",
   "id": "ec1429b1-e25f-4572-ad7e-78de53f77ef0",
   "metadata": {},
   "source": [
    "## 7. Monitoring workflow status\n",
    "\n",
    "To monitor the status of the workflow run, you can use the `workflowStatus()` function from the core api.  At present, this is the status of any steps which are/have been running.  You will see `Pending`, `Running`, `Succeeded` or `Failed`.  In the case of a failed step it will show an error message (this will often refer you to the logs, see below).  The json returned (`opr` here) contains more detailed information about when steps ran etc). "
   ]
  },
  {
   "cell_type": "code",
   "execution_count": null,
   "id": "4651ea33-4a8b-4a10-8050-ad764e72ed91",
   "metadata": {},
   "outputs": [],
   "source": [
    "model_run_id = resp['data']['model_run_id']\n",
    "\n",
    "opr = geodn_modelling.workflowStatus(model_run_id=model_run_id)"
   ]
  },
  {
   "attachments": {},
   "cell_type": "markdown",
   "id": "ea7f7feb-8f42-4006-83e9-e2d06f8fd027",
   "metadata": {},
   "source": [
    "## 8. Download and view output files\n",
    "In a GeoDN Modeling workflow, all the data files from a particular run of a workflow are stored in an S3-compitable bucket. This includes the input files, the final outputs and all intermediate files.  To check if the workflow has run correctly, we can check the correct files have been generated, download them and take a look."
   ]
  },
  {
   "cell_type": "code",
   "execution_count": null,
   "id": "cfed141b-4219-4e97-a302-6c2a5679b89a",
   "metadata": {},
   "outputs": [],
   "source": [
    "workflow.fileDownloader(geodn_modelling, model_run_id)"
   ]
  },
  {
   "attachments": {},
   "cell_type": "markdown",
   "id": "2fc70026-3f8b-46f1-a1d7-cbe97831bf10",
   "metadata": {},
   "source": [
    "## 9. Exploring past workflow runs\n",
    "You can also grab a list of your past workflows (which you could then use to pull old results etc).  To do this user the `past_workflows()` function, this will by default return a dataframe, but you can get the raw json by adding `output='json'` as an argument.  Also by default, it will filter by you as a user.\n"
   ]
  },
  {
   "cell_type": "code",
   "execution_count": null,
   "id": "f1c8ed37-3731-4466-8ee8-ff3c6066ec76",
   "metadata": {},
   "outputs": [],
   "source": [
    "gdf = geodn_modelling.past_workflows()\n",
    "gdf"
   ]
  }
 ],
 "metadata": {
  "kernelspec": {
   "display_name": "Python 3 (ipykernel)",
   "language": "python",
   "name": "python3"
  },
  "language_info": {
   "codemirror_mode": {
    "name": "ipython",
    "version": 3
   },
   "file_extension": ".py",
   "mimetype": "text/x-python",
   "name": "python",
   "nbconvert_exporter": "python",
   "pygments_lexer": "ipython3",
   "version": "3.9.18"
  },
  "vscode": {
   "interpreter": {
    "hash": "0df28554e046d61bfc146c0e0d59ebbdf9cb34e9c5e9102bf70f7f930bc64591"
   }
  }
 },
 "nbformat": 4,
 "nbformat_minor": 5
}
