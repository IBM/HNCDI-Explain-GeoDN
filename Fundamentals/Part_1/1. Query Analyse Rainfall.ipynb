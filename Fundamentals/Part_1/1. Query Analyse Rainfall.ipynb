{
 "cells": [
  {
   "cell_type": "markdown",
   "metadata": {},
   "source": [
    "# GeoDN Course 2: Fundamentals of Geospatial Data and Modeling - Part 1 Geospatial Data Discovery for Climate Risk\n",
    "> Copyright (c) 2024 International Business Machines Corporation\n",
    "\n",
    "> This software is released under the MIT License.\n",
    "> https://opensource.org/licenses/MIT"
   ]
  },
  {
   "cell_type": "markdown",
   "metadata": {},
   "source": [
    "# Session 1 - Query Analyse Rainfall\n",
    "In this notebook you will learn how to:  \n",
    "\n",
    "-(1) Query GeoDN data for an area of interest to retrieve rainfall data  \n",
    "-(2) Plot and analyse the data to identify extreme rainfall events which may have caused surface water flooding  \n",
    "\n",
    "This example uses the [CEH-GEAR](https://catalogue.ceh.ac.uk/documents/dbf13dd5-90cd-457a-a986-f2f9dd97e93c) precipitation data to demonstrate analysis of rainfall extremes."
   ]
  },
  {
   "cell_type": "markdown",
   "metadata": {},
   "source": [
    "### Prepare\n",
    "Load imports, including the `geodn.discovery` module."
   ]
  },
  {
   "cell_type": "code",
   "execution_count": null,
   "metadata": {},
   "outputs": [],
   "source": [
    "import os\n",
    "from dotenv import load_dotenv\n",
    "from geodn.discovery import discoveryv2\n",
    "from itertools import product\n",
    "import numpy as np\n",
    "import pandas as pd\n",
    "from datetime import datetime, timedelta\n",
    "import json\n",
    "import geopandas as gpd\n",
    "import plotly.express as px\n",
    "import plotly.graph_objects as go\n",
    "import pickle\n",
    "load_dotenv()"
   ]
  },
  {
   "cell_type": "markdown",
   "metadata": {},
   "source": [
    "### Connect to GeoDN discovery"
   ]
  },
  {
   "cell_type": "code",
   "execution_count": null,
   "metadata": {},
   "outputs": [],
   "source": [
    "geodn_discovery = discoveryv2.DiscoveryV2()"
   ]
  },
  {
   "cell_type": "markdown",
   "metadata": {},
   "source": [
    "***\n",
    "# 1: Explore and query rainfall data from GeoDN\n",
    "In this section, you will connect to GeoDN discovery and locate the dataset.\n",
    "\n",
    "Use `get_collections` function to return a list of Collection IDs.\n",
    "\n",
    "Select \"CEH  gridded hourly rainfall for Great Britain\". You will need to exactly copy the string and assign it to a variable such as collection_id.\n",
    "\n",
    "Use the `describe_collection` method to return a description of the collection. This description includes information such the license, the bands available in the dataset and the temporal and spatial extent of the dataset."
   ]
  },
  {
   "cell_type": "code",
   "execution_count": null,
   "metadata": {},
   "outputs": [],
   "source": [
    "geodn_discovery.get_collections()"
   ]
  },
  {
   "cell_type": "code",
   "execution_count": null,
   "metadata": {},
   "outputs": [],
   "source": [
    "collection_id = 'CEH gridded hourly rainfall for Great Britain'\n",
    "geodn_discovery.describe_collection(collection_id)"
   ]
  },
  {
   "cell_type": "markdown",
   "metadata": {},
   "source": [
    "Use the `describe_collection_dimensions` method to return a dictionary containing information on the bands, temporal and spatial extent. We will assign this result to the `dimensions` variable, then list this."
   ]
  },
  {
   "cell_type": "code",
   "execution_count": null,
   "metadata": {},
   "outputs": [],
   "source": [
    "dimensions = geodn_discovery.describe_collection_dimensions(collection_id)"
   ]
  },
  {
   "cell_type": "code",
   "execution_count": null,
   "metadata": {},
   "outputs": [],
   "source": [
    "dimensions"
   ]
  },
  {
   "cell_type": "markdown",
   "metadata": {},
   "source": [
    "Define the time period, area of interest and variable for the query."
   ]
  },
  {
   "cell_type": "code",
   "execution_count": null,
   "metadata": {},
   "outputs": [],
   "source": [
    "# Define the start and end time for the data query\n",
    "start = \"2007-01-01T11:00:00Z\"\n",
    "end = \"2007-12-31T11:00:00Z\"\n",
    "\n",
    "# Define the bounding box for the data query\n",
    "west = -0.48\n",
    "south = 53.709\n",
    "east = -0.22\n",
    "north = 53.812\n",
    "\n",
    "# Define the bands for the data query\n",
    "bands = [\"CEH rainfall for Great Britain\"]"
   ]
  },
  {
   "cell_type": "markdown",
   "metadata": {},
   "source": [
    "Plot the area to be queried with the `plot_with_bbox' function."
   ]
  },
  {
   "cell_type": "code",
   "execution_count": null,
   "metadata": {},
   "outputs": [],
   "source": [
    "geodn_discovery.plot_with_bbox(west, south, east, north, zoom_start=11) "
   ]
  },
  {
   "cell_type": "markdown",
   "metadata": {},
   "source": [
    "Call `geodn_discovery` to run the query and save the results in a `data_cube` object. Here, we need to provide the name of the dataset in `collection_id`, the name of the variable in `bands`, and the time range and bounding box we want to query in `temporal_extent` and `spatial_extent` respectively.\n",
    "\n",
    "If this function returns an error, check back to the results of the `describe_collection` function above, to ensure you have specified data which are available."
   ]
  },
  {
   "cell_type": "code",
   "execution_count": null,
   "metadata": {},
   "outputs": [],
   "source": [
    "data_cube = geodn_discovery.query(\n",
    "    collection_id = collection_id, \n",
    "    bands = bands, \n",
    "    temporal_extent = {\"start\": start, \"end\": end},\n",
    "    spatial_extent = {\"west\": west, \"south\": south, \"east\": east, \"north\": north},\n",
    ")"
   ]
  },
  {
   "cell_type": "code",
   "execution_count": null,
   "metadata": {},
   "outputs": [],
   "source": [
    "data_cube"
   ]
  },
  {
   "cell_type": "markdown",
   "metadata": {},
   "source": [
    "***\n",
    "# 2. Download, save and plot the data\n",
    "In this section, you will download the data to a netcdf file, then load it into an array. You'll then quickly plot the data to check it, before aggregating to create a time series across the whole area of interest."
   ]
  },
  {
   "cell_type": "code",
   "execution_count": null,
   "metadata": {},
   "outputs": [],
   "source": [
    "filename = \"CEH_hourly_rainfall.nc\""
   ]
  },
  {
   "cell_type": "code",
   "execution_count": null,
   "metadata": {},
   "outputs": [],
   "source": [
    "geodn_discovery.save(data_cube, filename, force = True)"
   ]
  },
  {
   "cell_type": "markdown",
   "metadata": {},
   "source": [
    "Use the `open_datacube` function to load data from the file into an xarray object."
   ]
  },
  {
   "cell_type": "code",
   "execution_count": null,
   "metadata": {},
   "outputs": [],
   "source": [
    "path = \"data/\" + filename\n",
    "x_data = geodn_discovery.open_datacube(path)\n",
    "x_data"
   ]
  },
  {
   "cell_type": "markdown",
   "metadata": {},
   "source": [
    "First, aggregate in time and plot the data to check it. Here we take the maximum rainfall in mm per hour over the time period of interest, therefore we need to specify the dimension `time` to aggregate over.\n",
    "\n",
    "Note that, since this dataset is derived from raingauge observations of rainfall, we see the polygonal structure of the raingauge network in the dataset."
   ]
  },
  {
   "cell_type": "code",
   "execution_count": null,
   "metadata": {},
   "outputs": [],
   "source": [
    "x_data.dims"
   ]
  },
  {
   "cell_type": "code",
   "execution_count": null,
   "metadata": {},
   "outputs": [],
   "source": [
    "max_value = x_data.max(dim = 'time')\n",
    "max_value.plot()"
   ]
  },
  {
   "cell_type": "markdown",
   "metadata": {},
   "source": [
    "Now aggregate the data spatially to create a time series, where the aggregated value corresponds to the maximum rainfall occuring in the areas of interest.\n",
    "\n",
    "Plot using Matplotlib."
   ]
  },
  {
   "cell_type": "code",
   "execution_count": null,
   "metadata": {},
   "outputs": [],
   "source": [
    "time_series = x_data.max(dim = [\"x\", \"y\"])\n",
    "time_series.plot()"
   ]
  },
  {
   "cell_type": "markdown",
   "metadata": {},
   "source": [
    "***\n",
    "# 3. Find high rainfall events\n",
    "In this section, you'll use the time series you created in the previous section to create a data frame, then analyse this to find the highest intensity rainfall events. You'll then plot these on a time series and as spatial maps.\n",
    "\n",
    "First, convert the data to a `pandas` `dataframe` for further analysis. Extract the time information and convert to a `datetime` object and add this as a column in the data frame."
   ]
  },
  {
   "cell_type": "code",
   "execution_count": null,
   "metadata": {},
   "outputs": [],
   "source": [
    "time_series_df = time_series.to_dataframe().reset_index()\n",
    "time_series_df['datetime'] = time_series.indexes['time'].to_datetimeindex()\n",
    "time_series_df.rename({51593 : 'CEH rainfall for Great Britain'}, axis = 'columns', inplace=True) "
   ]
  },
  {
   "cell_type": "code",
   "execution_count": null,
   "metadata": {},
   "outputs": [],
   "source": [
    "time_series_df.head()"
   ]
  },
  {
   "cell_type": "markdown",
   "metadata": {},
   "source": [
    "Locate the highest rainfall events by sorting the time series in descending order.\n",
    "\n",
    "Find the top 10 events. You should find that these occur during June and September 2007. The highest rainfall recorded was 19.4mm in one hour on 16 June 2007."
   ]
  },
  {
   "cell_type": "code",
   "execution_count": null,
   "metadata": {},
   "outputs": [],
   "source": [
    "time_series_sorted_by_value = time_series_df.sort_values(by=['CEH rainfall for Great Britain'],ascending=False)\n",
    "top_n_events = time_series_sorted_by_value.head(10)\n",
    "display(top_n_events)"
   ]
  },
  {
   "cell_type": "markdown",
   "metadata": {},
   "source": [
    "Now plot the time series and highlight these heavy rainfall events, using a `plotly` interactive line plot.\n",
    "\n",
    "We need to sort the time series by date to plot correctly."
   ]
  },
  {
   "cell_type": "code",
   "execution_count": 1,
   "metadata": {},
   "outputs": [
    {
     "ename": "NameError",
     "evalue": "name 'time_series_df' is not defined",
     "output_type": "error",
     "traceback": [
      "\u001b[0;31m---------------------------------------------------------------------------\u001b[0m",
      "\u001b[0;31mNameError\u001b[0m                                 Traceback (most recent call last)",
      "Cell \u001b[0;32mIn[1], line 1\u001b[0m\n\u001b[0;32m----> 1\u001b[0m time_series_sorted \u001b[38;5;241m=\u001b[39m \u001b[43mtime_series_df\u001b[49m\u001b[38;5;241m.\u001b[39msort_values(by \u001b[38;5;241m=\u001b[39m [\u001b[38;5;124m'\u001b[39m\u001b[38;5;124mdatetime\u001b[39m\u001b[38;5;124m'\u001b[39m])\n\u001b[1;32m      3\u001b[0m fig_timeseries \u001b[38;5;241m=\u001b[39m px\u001b[38;5;241m.\u001b[39mline(time_series_sorted,\n\u001b[1;32m      4\u001b[0m               x\u001b[38;5;241m=\u001b[39m\u001b[38;5;124m'\u001b[39m\u001b[38;5;124mdatetime\u001b[39m\u001b[38;5;124m'\u001b[39m,\n\u001b[1;32m      5\u001b[0m               y\u001b[38;5;241m=\u001b[39m\u001b[38;5;124m'\u001b[39m\u001b[38;5;124mCEH rainfall for Great Britain\u001b[39m\u001b[38;5;124m'\u001b[39m,\n\u001b[1;32m      6\u001b[0m               )\n\u001b[1;32m      8\u001b[0m fig_top_n \u001b[38;5;241m=\u001b[39m px\u001b[38;5;241m.\u001b[39mscatter(top_n_events,x\u001b[38;5;241m=\u001b[39m\u001b[38;5;124m'\u001b[39m\u001b[38;5;124mdatetime\u001b[39m\u001b[38;5;124m'\u001b[39m,y\u001b[38;5;241m=\u001b[39m\u001b[38;5;124m'\u001b[39m\u001b[38;5;124mCEH rainfall for Great Britain\u001b[39m\u001b[38;5;124m'\u001b[39m,color_discrete_sequence\u001b[38;5;241m=\u001b[39m[\u001b[38;5;124m'\u001b[39m\u001b[38;5;124mred\u001b[39m\u001b[38;5;124m'\u001b[39m])\n",
      "\u001b[0;31mNameError\u001b[0m: name 'time_series_df' is not defined"
     ]
    }
   ],
   "source": [
    "time_series_sorted = time_series_df.sort_values(by = ['datetime'])\n",
    "\n",
    "fig_timeseries = px.line(time_series_sorted,\n",
    "              x='datetime',\n",
    "              y='CEH rainfall for Great Britain',\n",
    "              )\n",
    "\n",
    "fig_top_n = px.scatter(top_n_events,x='datetime',y='CEH rainfall for Great Britain',color_discrete_sequence=['red'])\n",
    "\n",
    "fig_timeseries_and_top_n = go.Figure(data=fig_timeseries.data+fig_top_n.data) \n",
    "fig_timeseries_and_top_n.show()"
   ]
  },
  {
   "cell_type": "markdown",
   "metadata": {},
   "source": [
    "Now plot thumbnail maps to show the top 10 rainfall events."
   ]
  },
  {
   "cell_type": "code",
   "execution_count": null,
   "metadata": {},
   "outputs": [],
   "source": [
    "figure_crop = [10,30,20,65] \n",
    "figure_width = 500 # in pixels\n",
    "figure_height = 300 # in pixels\n",
    "# find the relevant dates \n",
    "dates_top_n = top_n_events['time'].values\n",
    "\n",
    "# find events in the datacube\n",
    "x_top = x_data.sel(time = dates_top_n)"
   ]
  },
  {
   "cell_type": "code",
   "execution_count": null,
   "metadata": {},
   "outputs": [],
   "source": [
    "# plot \n",
    "i=0\n",
    "for eventtime in x_top.time.to_numpy():\n",
    "    date_info = str(eventtime)\n",
    "    map_data = x_top[i]\n",
    "    fig_map = px.imshow(\n",
    "                    map_data[figure_crop[0]:figure_crop[1],figure_crop[2]:figure_crop[3]], \n",
    "                    width= figure_width,       \n",
    "                    height = figure_height, \n",
    "                    title = date_info\n",
    "                  )\n",
    "    fig_map.show()\n",
    "    i=i+1"
   ]
  },
  {
   "cell_type": "markdown",
   "metadata": {},
   "source": [
    "***\n",
    "# Explore more\n",
    "To extend your analysis, try comparing rainfall events in a different dataset, for example the 'Global weather (ERA5)' you explored in the previous course. What do you notice about the rainfall extremes captured in this dataset? You could also choose to look at a different location, or consider extreme of a different weather variable, such as temperature."
   ]
  },
  {
   "cell_type": "markdown",
   "metadata": {},
   "source": [
    "***\n",
    "# What's next?"
   ]
  },
  {
   "cell_type": "markdown",
   "metadata": {},
   "source": [
    "Continue to Notebooks 2 and 3 to explore flood maps and flood impact."
   ]
  },
  {
   "cell_type": "code",
   "execution_count": null,
   "metadata": {},
   "outputs": [],
   "source": []
  }
 ],
 "metadata": {
  "kernelspec": {
   "display_name": "my-GEODN",
   "language": "python",
   "name": "my-geodn"
  },
  "language_info": {
   "codemirror_mode": {
    "name": "ipython",
    "version": 3
   },
   "file_extension": ".py",
   "mimetype": "text/x-python",
   "name": "python",
   "nbconvert_exporter": "python",
   "pygments_lexer": "ipython3",
   "version": "3.10.12"
  }
 },
 "nbformat": 4,
 "nbformat_minor": 4
}
