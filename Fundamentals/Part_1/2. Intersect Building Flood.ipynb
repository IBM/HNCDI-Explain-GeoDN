{
 "cells": [
  {
   "cell_type": "markdown",
   "metadata": {},
   "source": [
    "# GeoDN Course 2: Fundamentals of Geospatial Data and Modeling - Part 1 Geospatial Data Discovery for Climate Risk #\n",
    "> Copyright (c) 2024 International Business Machines Corporation\n",
    "\n",
    "> This software is released under the MIT License.\n",
    "> https://opensource.org/licenses/MIT\n",
    "\n",
    "# Session 2 - Flood model and real flood extent with buildings\n",
    "\n",
    "Once we have the information about floods and extreme rainfall events, we want to understand the impact this has on buildings or general infrastructure. For this, we need to combine the flood outlines with the buildings for our area of interest. We also compare that to the flood model output and see how much the model output matches the real events. \n",
    "\n",
    "In this Notebook you will learn to: \n",
    "\n",
    "(1) Load our shapefile of interest  \n",
    "(2) Load our flood information (in this case a shapefile with flood extends - true data)   \n",
    "(3) Get buildings from OpenStreetMaps   \n",
    "(4) Calculate interesection between buildings and floods   \n",
    "(5) Map buildings and flood extents   \n",
    "(6) Create overview of buildings affected   \n",
    "(7) Compare the real flood extents to the predicted flood extents from the model    "
   ]
  },
  {
   "cell_type": "markdown",
   "metadata": {},
   "source": [
    "### Prepare\n",
    "\n",
    "Load import modules\n",
    "\n"
   ]
  },
  {
   "cell_type": "code",
   "execution_count": null,
   "metadata": {
    "tags": []
   },
   "outputs": [],
   "source": [
    "from pathlib import Path\n",
    "import seaborn as sns\n",
    "import pandas as pd\n",
    "import geopandas as gpd\n",
    "import matplotlib.pyplot as plt\n",
    "import osmnx as ox\n",
    "import plotly.express as px\n",
    "import plotly.graph_objects as go\n",
    "import folium\n",
    "%matplotlib inline"
   ]
  },
  {
   "cell_type": "markdown",
   "metadata": {},
   "source": [
    "<font color='white'>********************************************************************************************************************************************************************</font>"
   ]
  },
  {
   "cell_type": "markdown",
   "metadata": {},
   "source": [
    "# 1) Load shapefiles for Hull\n",
    "\n",
    "In our case this is still the Hull shapefile. This is a shapefile that contains the outline of Hull City. We use this so that we have the coordinates and outlines as a geospatial file. We can then use that later to pull data for that specific outline of Hull. \n",
    "We will then plot it on a nice map with `folium` where you can zoom in and out. For the map, we specify the center location with latitude and longitude coordinates and specify a certain map style, in this case we use `tiles=\"CartoDB Positron\"` but you can choose others, see here https://python-visualization.github.io/folium/latest/user_guide/raster_layers/tiles.html"
   ]
  },
  {
   "cell_type": "code",
   "execution_count": null,
   "metadata": {
    "tags": []
   },
   "outputs": [],
   "source": [
    "#Load file\n",
    "shpFilePath='shapefiles/cutline.shp'\n",
    "hull = gpd.read_file(shpFilePath)\n",
    "\n",
    "#Specify map object\n",
    "map = folium.Map(location=[53.76,-0.35], tiles=\"CartoDB Positron\", zoom_start=11)\n",
    "\n",
    "# Add the GeoDataFrame to the map.\n",
    "hull.explore(m=map,color='blue')\n",
    "\n"
   ]
  },
  {
   "cell_type": "markdown",
   "metadata": {},
   "source": [
    "<font color='white'>********************************************************************************************************************************************************************</font>"
   ]
  },
  {
   "cell_type": "markdown",
   "metadata": {},
   "source": [
    "# 2) Load flood extents\n",
    "\n",
    "We load the flood extents and change the coordinate system to match `ESPG:4326` from the shapefile for Hull. These flood events are the real flood outlines from the 2007 floods in Hull. They only contain information about the outline of the water, but not how deep the water was. We also clip the flood file to the same shape as our shapefile from Hull was above, so that we save a bit on processing. "
   ]
  },
  {
   "cell_type": "code",
   "execution_count": null,
   "metadata": {
    "tags": []
   },
   "outputs": [],
   "source": [
    "shpFilePath_flood='shapefiles/hull-flood-outlines.shp'\n",
    "flood = gpd.read_file(shpFilePath_flood)\n",
    "# Make sure coordinate system is set to world grid EPSG:4326\n",
    "flood = flood.to_crs(4326)\n",
    "#Clip flood extents to Hull only \n",
    "flood = gpd.clip(flood, hull)\n",
    "\n",
    "#Specify map object\n",
    "map = folium.Map(location=[53.76,-0.35], tiles=\"CartoDB Positron\", zoom_start=11)\n",
    "\n",
    "# Add the GeoDataFrame to the map.\n",
    "flood.explore(m=map,color='red')"
   ]
  },
  {
   "cell_type": "markdown",
   "metadata": {},
   "source": [
    "Let's do a quick tidy up to make processing easier for later:"
   ]
  },
  {
   "cell_type": "code",
   "execution_count": null,
   "metadata": {
    "tags": []
   },
   "outputs": [],
   "source": [
    "#Tidy up dataframe by removing unnecessary columns\n",
    "flood\n",
    "flood = flood[['name','start_date','flood_caus', 'fluvial_f', 'coastal_f', 'tidal_f', 'hfm_status','geometry']]\n"
   ]
  },
  {
   "cell_type": "markdown",
   "metadata": {},
   "source": [
    "The flood extents contain `MULTIPOLYGONS` as well as single `POLYGONS`. Multipolygons are nested/stitched together Polygons, as the name suggests. The `intersect` function in `geopandas` is not able to compute the intercept when there is a mix of multi and single polygons, so we use the `explode` function to convert the multipolygons into single polygons, each will be added as a new row with the same metainfo. "
   ]
  },
  {
   "cell_type": "code",
   "execution_count": null,
   "metadata": {
    "tags": []
   },
   "outputs": [],
   "source": [
    "#Convert multipolygons in single polygons for later intercept calculation. \n",
    "flood_exploded = flood.explode(ignore_index=True)\n",
    "flood_exploded"
   ]
  },
  {
   "cell_type": "markdown",
   "metadata": {
    "tags": []
   },
   "source": [
    "<font color='white'>********************************************************************************************************************************************************************</font>"
   ]
  },
  {
   "cell_type": "markdown",
   "metadata": {},
   "source": [
    "# 3) Get buildings from OpenStreetMaps\n",
    "\n",
    "We use OpenStreetmaps to get all buildings outlines for our area of interest. OpenStreetMaps has a tag system where everything on a map is classified into a building, road, land etc. Each tag has then a specific key which gives more details. For example a shape on OSM is tagged as a building and the specific type (key) is \"apartment\". \n",
    "\n",
    "We extracted all the buildings from OpenStreetMaps, see here all available types: https://wiki.openstreetmap.org/wiki/Map_features\n",
    "    "
   ]
  },
  {
   "cell_type": "markdown",
   "metadata": {},
   "source": [
    "We set up the function to pull the data from our Hull Polygon Shapefile as loaded above. "
   ]
  },
  {
   "cell_type": "code",
   "execution_count": null,
   "metadata": {},
   "outputs": [],
   "source": [
    "# Set all possible building types\n",
    "building_types = [\n",
    "    \"apartments\", \"barracks\", \"bungalow\", \"cabin\", \"detached\",\n",
    "    \"dormitory\", \"farm\", \"ger\", \"hotel\", \"house\", \"houseboat\",\n",
    "    \"residential\", \"semidetached_house\", \"static_caravan\", \"commercial\", \"industrial\",\n",
    "    \"kiosk\", \"office\", \"retail\", \"supermarket\", \"warehouse\", \"cathedral\", \"chapel\",\n",
    "    \"church\", \"monastery\", \"mosque\", \"presbytery\", \"religious\", \"shrine\", \"synagogue\",\n",
    "    \"temple\", \"bakehouse\", \"civic\", \"college\", \"fire_station\", \"government\", \"hospital\",\n",
    "    \"kindergarten\", \"public\", \"school\", \"toilets\", \"train_station\", \"transportation\",\n",
    "    \"university\", \"barn\", \"conservatory\", \"cowshed\", \"farm_auxiliary\", \"greenhouse\",\n",
    "    \"slurry_tank\", \"stable\", \"sty\", \"grandstand\", \"pavilion\", \"riding_hall\", \"sports_hall\",\n",
    "    \"stadium\", \"hangar\", \"hut\", \"shed\", \"carport\", \"garage\", \"garages\", \"parking\", \"digester\",\n",
    "    \"service\", \"transformer_tower\", \"water_tower\", \"beach_hut\", \"bunker\", \"bridge\", \"castle\",\n",
    "    \"construction\", \"container\", \"gatehouse\", \"military\", \"roof\", \"ruins\", \"tent\", \"tree_house\"\n",
    "]\n"
   ]
  },
  {
   "cell_type": "markdown",
   "metadata": {},
   "source": [
    "Then we set up the function to retrieve the buildings from OSM. "
   ]
  },
  {
   "cell_type": "code",
   "execution_count": null,
   "metadata": {
    "tags": []
   },
   "outputs": [],
   "source": [
    "def get_buildings(polygon, building_type):\n",
    "\n",
    "    '''\n",
    "    This function uses the osmnx package to get data from \n",
    "    Open Street Maps. \n",
    "    Tags are used to define what data you request. \n",
    "    https://wiki.openstreetmap.org/wiki/Tags\n",
    "    We specified the different building types, see here the full list: \n",
    "    https://wiki.openstreetmap.org/wiki/Key:building\n",
    "    '''\n",
    "    \n",
    "    # We are interested in buildings\n",
    "    tags = {\"building\": building_type}\n",
    "    \n",
    "    # Acquire buildings' Geodataframe for polygon\n",
    "    gdf = ox.features_from_polygon(polygon, tags) \n",
    "    \n",
    "    # Add the tag to it\n",
    "    gdf[\"building_type\"] = building_type\n",
    "    \n",
    "    return gdf"
   ]
  },
  {
   "cell_type": "markdown",
   "metadata": {},
   "source": [
    "Now run this function for a place of choice and set a path where it is saved as a shapefile, so we don't have to re-run this again. \n"
   ]
  },
  {
   "cell_type": "code",
   "execution_count": null,
   "metadata": {},
   "outputs": [],
   "source": [
    "# Set the data path\n",
    "\n",
    "data_path = Path(\"buildings.shp\")\n",
    "\n",
    "polygon = hull.loc[0, 'geometry'] #we use the polygon for hull from the geodataframe\n",
    "gdfs = list()\n",
    "for building_type in building_types:\n",
    "    print(f\"Acquiring {building_type}....\")\n",
    "    try:\n",
    "        gdfs.append(get_buildings(polygon, building_type))\n",
    "    except:\n",
    "        print(f\"{building_type} not in this area.\")\n",
    "\n",
    "# Concatenate all geodataframes\n",
    "gdf = pd.concat(gdfs).reset_index()\n",
    "gdf = gdf[[\"building\", \"geometry\"]]\n",
    "gdf = gdf.rename(columns={\"building\": \"btype\"})\n",
    "gdf = gdf[gdf[\"geometry\"].type != \"Point\"]\n",
    "    \n",
    "# Save\n",
    "gdf.to_file(data_path)"
   ]
  },
  {
   "cell_type": "markdown",
   "metadata": {},
   "source": [
    "What is returned is a geodataframe, containing the building type (`btype`) and Polygon information about this building. The Polygon information let's us plot the buildings on a map and we use those Polygon outlines to match/intersect with the flood outlines later on. "
   ]
  },
  {
   "cell_type": "code",
   "execution_count": null,
   "metadata": {
    "tags": []
   },
   "outputs": [],
   "source": [
    "gdf"
   ]
  },
  {
   "cell_type": "markdown",
   "metadata": {},
   "source": [
    "Plot buildings on a map to make sure we have the right area. As you can see on the area, not all buildiings are pulled with the OpenStreetMaps Package. Some areas work better than others, it depends how well an area has been manually annotated. For this exercise it doesn't really matter but needs to be taken into account if you want to do more accurate analysis. "
   ]
  },
  {
   "cell_type": "code",
   "execution_count": null,
   "metadata": {
    "tags": []
   },
   "outputs": [],
   "source": [
    "#Specify map object\n",
    "map = folium.Map(location=[53.76,-0.35], tiles=\"CartoDB Positron\", zoom_start=11)\n",
    "\n",
    "# Add the GeoDataFrame to the map.\n",
    "gdf.explore(m=map,color='green')"
   ]
  },
  {
   "cell_type": "markdown",
   "metadata": {},
   "source": [
    "<font color='white'>********************************************************************************************************************************************************************</font>"
   ]
  },
  {
   "cell_type": "markdown",
   "metadata": {},
   "source": [
    "# 4) Calculate interesection between buildings and floods\n",
    "\n",
    "Now we want to show the intersect between the flood outlines and the building outlines. We check the dataframe for the flood extents and the buildings to make sure they are all ready to go. "
   ]
  },
  {
   "cell_type": "code",
   "execution_count": null,
   "metadata": {
    "tags": []
   },
   "outputs": [],
   "source": [
    "gdf"
   ]
  },
  {
   "cell_type": "code",
   "execution_count": null,
   "metadata": {
    "tags": []
   },
   "outputs": [],
   "source": [
    "flood_exploded"
   ]
  },
  {
   "cell_type": "markdown",
   "metadata": {},
   "source": [
    "Now run function to calculate the intersect between the floods and buildings. The output is a dataframe of affected buildings. "
   ]
  },
  {
   "cell_type": "code",
   "execution_count": null,
   "metadata": {
    "tags": []
   },
   "outputs": [],
   "source": [
    "build_affected = gpd.overlay(gdf, flood_exploded, how='intersection')\n",
    "build_affected\n",
    "\n",
    "\n"
   ]
  },
  {
   "cell_type": "markdown",
   "metadata": {},
   "source": [
    "<font color='white'>********************************************************************************************************************************************************************</font>"
   ]
  },
  {
   "cell_type": "markdown",
   "metadata": {},
   "source": [
    "# 5) Map buildings and flood extents\n",
    "\n",
    "Now let's actually map the affected buildings after we run the interesection between buildings and flood extents. Note that previously we mapped all flood and building outlines and now we're just plotting the buildings that are affected by the flood event itself. "
   ]
  },
  {
   "cell_type": "code",
   "execution_count": null,
   "metadata": {
    "tags": []
   },
   "outputs": [],
   "source": [
    "#Specify map object\n",
    "map = folium.Map(location=[53.76,-0.35], tiles=\"CartoDB Positron\", zoom_start=11)\n",
    "\n",
    "# Add the GeoDataFrame to the map.\n",
    "build_affected.explore(m=map,color='red')"
   ]
  },
  {
   "cell_type": "markdown",
   "metadata": {},
   "source": [
    "We can also use the plot to look at the flood extents on the map and explore it a little further in the next section. For this, we plot the flood extents on the same map from the previous cell by simply adding it to the same map object. "
   ]
  },
  {
   "cell_type": "code",
   "execution_count": null,
   "metadata": {
    "tags": []
   },
   "outputs": [],
   "source": [
    "# Add the GeoDataFrame to the map.\n",
    "flood_exploded.explore(m=map,color='blue')"
   ]
  },
  {
   "cell_type": "markdown",
   "metadata": {},
   "source": [
    "We also add all buildings again together with the flooded buildings and the flood extents, which shows nicely how everything overlaps. We re-order everything so that the flood extents are the bottom layer. Zoom in to explore"
   ]
  },
  {
   "cell_type": "code",
   "execution_count": null,
   "metadata": {},
   "outputs": [],
   "source": [
    "#Specify map object\n",
    "map = folium.Map(location=[53.76,-0.35], tiles=\"CartoDB Positron\", zoom_start=11)\n",
    "\n",
    "# Add the GeoDataFrame to the map.\n",
    "flood_exploded.explore(m=map,color='blue')\n",
    "\n",
    "# Add the GeoDataFrame to the map.\n",
    "gdf.explore(m=map,color='green')\n",
    "\n",
    "# Add the GeoDataFrame to the map.\n",
    "build_affected.explore(m=map,color='red')"
   ]
  },
  {
   "cell_type": "markdown",
   "metadata": {},
   "source": [
    "<font color='white'>********************************************************************************************************************************************************************</font>"
   ]
  },
  {
   "cell_type": "markdown",
   "metadata": {},
   "source": [
    "# 6) Create overview of buildings affected\n",
    "\n",
    "We want to understand how many buildings are affected by the flood in total, so we create some stats and plots based on the dataframe of the intersection. "
   ]
  },
  {
   "cell_type": "code",
   "execution_count": null,
   "metadata": {
    "tags": []
   },
   "outputs": [],
   "source": [
    "build_affected"
   ]
  },
  {
   "cell_type": "code",
   "execution_count": null,
   "metadata": {
    "tags": []
   },
   "outputs": [],
   "source": [
    "print(\"Total frequency of affected buildings\")\n",
    "print(build_affected.btype.value_counts())\n",
    "\n",
    "print(\"Total flood events relevant\")\n",
    "print(build_affected.name.value_counts())"
   ]
  },
  {
   "cell_type": "code",
   "execution_count": null,
   "metadata": {
    "tags": []
   },
   "outputs": [],
   "source": [
    "#Do a frequency count on flood depth and building type\n",
    "df = build_affected.copy()\n",
    "df = df.groupby(['btype']).count().reset_index()\n",
    "# Delete other columns: \n",
    "df = df[['btype','name']]\n",
    "# Rename columns\n",
    "df.columns=['btype','frequency']\n",
    "\n",
    "\n",
    "#plot\n",
    "sns.set(rc={'figure.figsize':(15,10)})\n",
    "ax = sns.barplot(data=df, x=\"btype\", y=\"frequency\", hue='btype',palette = \"hls\",log=True, width=1,dodge = False)\n",
    "ax.set(xlabel='Building Type', ylabel='frequency',title='assets affected by floods')\n",
    "plt.legend([],[], frameon=False)\n",
    "plt.xticks(rotation=90)\n",
    "\n"
   ]
  },
  {
   "cell_type": "markdown",
   "metadata": {},
   "source": [
    "<font color='white'>********************************************************************************************************************************************************************</font>"
   ]
  },
  {
   "cell_type": "markdown",
   "metadata": {},
   "source": [
    "# 7) Compare real floods to model output floods\n",
    "\n",
    "\n",
    "EA surface water flood risk maps - these are risk maps created by the environment agency for different storm scenarios. In this case, we use the scenario of an extreme storm, occurring once in 1000 years (called 1in1000). We can then see if this extreme storm scenario matches with the actual flood event in Hull as seen above.    \n",
    "\n",
    "This step below takes a few minutes as the shapefile is quite large. "
   ]
  },
  {
   "cell_type": "code",
   "execution_count": null,
   "metadata": {
    "tags": []
   },
   "outputs": [],
   "source": [
    "#Load shapefile\n",
    "shpFilePath_flood='shapefiles/hull_ea_flood_extent.shp'\n",
    "flood_model = gpd.read_file(shpFilePath_flood)\n",
    "flood_model.plot()\n",
    "\n"
   ]
  },
  {
   "cell_type": "code",
   "execution_count": null,
   "metadata": {},
   "outputs": [],
   "source": [
    "flood_model"
   ]
  },
  {
   "cell_type": "markdown",
   "metadata": {},
   "source": [
    "Now we can compare the flood model output to the real floods and see how they match. We plot again on our familiar map: "
   ]
  },
  {
   "cell_type": "code",
   "execution_count": null,
   "metadata": {},
   "outputs": [],
   "source": [
    "#Specify map object\n",
    "map = folium.Map(location=[53.76,-0.35], tiles=\"CartoDB Positron\", zoom_start=11)\n",
    "\n",
    "# Add the GeoDataFrame to the map.\n",
    "flood_exploded.explore(m=map,color='blue')\n",
    "\n",
    "# Add the GeoDataFrame to the map.\n",
    "flood_model.explore(m=map,color='red')\n"
   ]
  },
  {
   "cell_type": "markdown",
   "metadata": {
    "tags": []
   },
   "source": [
    "From this we can see that the actual flood was quite severe in some areas compared to what the Environment Agencies considered an extreme 1 in 1000 year storm, however the storm scenario was a lot more wide spread. We want to explore in the next section what the flood depth does in terms of building damage and what that would cost. "
   ]
  },
  {
   "cell_type": "markdown",
   "metadata": {},
   "source": [
    "# Explore more"
   ]
  },
  {
   "cell_type": "markdown",
   "metadata": {},
   "source": [
    "Try running the OpenStreetMap data acquisition for a different location. You don't need to have a shapefile of a location, you can also search by place name (or a bounding box). The function above changes to this then: \n",
    "\n",
    "### From place: \n",
    "```\n",
    "# We create a function to call all buildings for a place, in this case city\n",
    "def get_buildings(place, building_type):\n",
    "    \n",
    "    # We are interested in buildings\n",
    "    tags = {\"building\": building_type}\n",
    "    \n",
    "    # Acquire buildings' Geodataframe\n",
    "    gdf = ox.features_from_place(place, tags) \n",
    "    \n",
    "    # Add the tag to it\n",
    "    gdf[\"building_type\"] = building_type\n",
    "    \n",
    "    return gdf\n",
    "\n",
    "# Set the data path\n",
    "\n",
    "data_path = Path(\"buildings.shp\")\n",
    "\n",
    "place = \"Berlin\"\n",
    "gdfs = list()\n",
    "for building_type in building_types:\n",
    "    print(f\"Acquiring {building_type}....\")\n",
    "    try:\n",
    "        gdfs.append(get_buildings(place, building_type))\n",
    "    except:\n",
    "        print(f\"{building_type} not in this area.\")\n",
    "\n",
    "# Concatenate all geodataframes\n",
    "gdf = pd.concat(gdfs).reset_index()\n",
    "gdf = gdf[[\"building\", \"geometry\"]]\n",
    "gdf = gdf.rename(columns={\"building\": \"btype\"})\n",
    "gdf = gdf[gdf[\"geometry\"].type != \"Point\"]\n",
    "    \n",
    "# Save\n",
    "gdf.to_file(data_path)\n",
    "```\n",
    "\n",
    "Or from bounding box, change the function to `features_from_bbox(north, south, east, west, tags)`\n",
    "\n",
    "You can also run the intersection between the flood model and the actual flood to see how they compare in the overlapping areas and plot them on a map. "
   ]
  },
  {
   "cell_type": "markdown",
   "metadata": {},
   "source": [
    "# What's next"
   ]
  },
  {
   "cell_type": "markdown",
   "metadata": {},
   "source": [
    "Next, we can move on to the next Notebook, where we can calculate the impact on flood depth vs building fragility. We will be using the Environment Agency Storm scenario for this, as this will have water depth information and not just the outlines of the floods. "
   ]
  }
 ],
 "metadata": {
  "kernelspec": {
   "display_name": "Python 3 (ipykernel)",
   "language": "python",
   "name": "python3"
  },
  "language_info": {
   "codemirror_mode": {
    "name": "ipython",
    "version": 3
   },
   "file_extension": ".py",
   "mimetype": "text/x-python",
   "name": "python",
   "nbconvert_exporter": "python",
   "pygments_lexer": "ipython3",
   "version": "3.10.13"
  }
 },
 "nbformat": 4,
 "nbformat_minor": 4
}
