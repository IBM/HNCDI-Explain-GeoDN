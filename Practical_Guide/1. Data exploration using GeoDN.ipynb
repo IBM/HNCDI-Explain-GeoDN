{
 "cells": [
  {
   "cell_type": "markdown",
   "id": "9c805a6f",
   "metadata": {},
   "source": [
    "# GeoDN Course 1: Practical Guide to Geospatial Data #\n",
    "> Copyright (c) 2024 International Business Machines Corporation\n",
    "\n",
    "> This software is released under the MIT License.\n",
    "> https://opensource.org/licenses/MIT"
   ]
  },
  {
   "cell_type": "markdown",
   "id": "e12b3d5f",
   "metadata": {},
   "source": [
    "# Session 1 - Data exploration using GeoDN\n",
    "\n",
    "In this notebook, you will learn how to:\n",
    "\n",
    "- (1) Connect to GeoDN Discovery.\n",
    "- (2) Explore the catalogue of data available on GeoDN.\n",
    "- (3) Identify a collection to query.\n",
    "- (4) Perform a query.\n",
    "- (5) Download and plot the data.\n",
    "\n",
    "The examples below use the [ECMWF Reanalysis v5 (ERA5)](https://www.google.com/url?sa=t&rct=j&q=&esrc=s&source=web&cd=&cad=rja&uact=8&ved=2ahUKEwj04re8ztyBAxU2lGoFHStMDPAQFnoECBIQAQ&url=https%3A%2F%2Fwww.ecmwf.int%2Fen%2Fforecasts%2Fdataset%2Fecmwf-reanalysis-v5&usg=AOvVaw2BTzzlSSeVEXYcvSEZGwB5&opi=89978449) dataset to demonstrate how to look at hourly precipitation data for a given location and time."
   ]
  },
  {
   "cell_type": "markdown",
   "id": "78a11c42",
   "metadata": {},
   "source": [
    "### Prepare\n",
    "Load the `geodn.discovery` module."
   ]
  },
  {
   "cell_type": "code",
   "execution_count": 1,
   "id": "15f9e699-00f4-470a-872c-ae5eaa90439c",
   "metadata": {},
   "outputs": [],
   "source": [
    "from geodn.discovery import discoveryv2 as discovery"
   ]
  },
  {
   "cell_type": "markdown",
   "id": "c3b14c71",
   "metadata": {},
   "source": [
    "### Connect to GeoDN discovery\n",
    "\n",
    "Now we have authenticated, we can connect to the GeoDN Discovery service. This will also you to explore and query data in the GeoDN catalogue."
   ]
  },
  {
   "cell_type": "code",
   "execution_count": 2,
   "id": "b0f9edcb",
   "metadata": {},
   "outputs": [],
   "source": [
    "geodn_discovery = discovery.DiscoveryV2()"
   ]
  },
  {
   "cell_type": "markdown",
   "id": "e0fa0529",
   "metadata": {},
   "source": [
    "Now that we have connected to both the GeoDN Discovery service, we can take a look at putting it to use in the sections below."
   ]
  },
  {
   "cell_type": "markdown",
   "id": "11bf52b9",
   "metadata": {},
   "source": [
    "***\n",
    "# 1. Explore the catalogue of data available on GeoDN\n",
    "In this section, you will learn how to explore the catalogue of data available on GeoDN. \n",
    "\n",
    "Now that you have successfully connected to GeoDN, make use of the `get_collections` function to show a list of all the data collections available. The `get_collections` function returns a list of Collection IDs. These Collections IDs will be used to identify which data collection you would like to explore further."
   ]
  },
  {
   "cell_type": "code",
   "execution_count": 3,
   "id": "7f94a947-8dc2-4f79-9da1-95a5dee86e8f",
   "metadata": {},
   "outputs": [],
   "source": [
    "geodn_discovery.get_collections()"
   ]
  },
  {
   "cell_type": "markdown",
   "id": "a2187945",
   "metadata": {},
   "source": [
    "***\n",
    "# 2. Identify a collection to query\n",
    "Chose a Collection ID from the list returned by `get_collections` as the dataset to explore further. In this notebook, we will selection \"Global weather (ERA5)\". You will need to exactly copy the string and assign it to a variable such as `collection_id`.\n",
    "\n",
    "Now a collection has been selected, we can start to explore the data in the collection. Let's start by using the `describe_collection` method to return a description of the collection. This description includes information such the license, the bands available in the dataset and the temporal and spatial extent of the dataset. \n",
    "\n",
    "We will use the information returned by `describe_collection` later on to identify a search region within the dataset to query later on. The `describe_collection` function takes a `collection_id` as a parameter."
   ]
  },
  {
   "cell_type": "code",
   "execution_count": 22,
   "id": "eae75e46-f0ae-424a-ad84-a186c0e32647",
   "metadata": {},
   "outputs": [],
   "source": [
    "collection_id = \"Global weather (ERA5)\"\n",
    "geodn_discovery.describe_collection(collection_id)"
   ]
  },
  {
   "cell_type": "markdown",
   "id": "502dbc4c",
   "metadata": {},
   "source": [
    "Use the `describe_collection_dimensions` method to return a dictionary containing information on the bands, temporal and spatial extent. We will assign this result to the `dimensions` variable.\n",
    "\n",
    "We can see that for ERA5, the bands available are for \"Total precipitation\", the temporal extent is from January 1st 1993, 00:00 UTC (1993-01-01T00:00:00Z) to September 8th 2023, 11:00 UTC (2023-09-08T08:00:00ZZ) and that the spatial extent is -180$^\\circ$ west, 180$^\\circ$ east, -90$^\\circ$ South and 90$^\\circ$ North. Note that date and time expressions adhere to [RFC 3339](https://datatracker.ietf.org/doc/html/rfc3339#section-5.6)."
   ]
  },
  {
   "cell_type": "code",
   "execution_count": 5,
   "id": "c86acac2",
   "metadata": {},
   "outputs": [],
   "source": [
    "dimensions = geodn_discovery.describe_collection_dimensions(collection_id)\n",
    "print(dimensions)"
   ]
  },
  {
   "cell_type": "markdown",
   "id": "d3722cce",
   "metadata": {},
   "source": [
    "To better understand the spatial extent of the dataset, we can use the `plot_collection_extent` function to plot the collection extent. This helps to inform you if the area you are interested in querying is included in this particular dataset.\n",
    "\n",
    "In the case of the ERA5 collection, the spatial extent is global but this won't be the case for all collections. Some collections will have a smaller spatial extent, so you will need to bear this in mind when consider which geographical area to query."
   ]
  },
  {
   "cell_type": "code",
   "execution_count": 10,
   "id": "30d9dfe4-e2fd-4e6a-a8b0-69cce62112c8",
   "metadata": {},
   "outputs": [],
   "source": [
    "geodn_discovery.plot_collection_extent(collection_id)"
   ]
  },
  {
   "cell_type": "markdown",
   "id": "8a65c1e6",
   "metadata": {},
   "source": [
    "***\n",
    "# 3. Perform a query\n",
    "Now that you have identified a collection to query, let's select a query region, a time and the information we would like to query from the dateset.\n",
    "\n",
    "From the `describe_collection` and `describe_collection_dimensions` functions, we know the extent of the data and the bands available. Ensure the query bounds reside within the dateset extent.\n",
    "\n",
    "Define a start and end time as strings in the following format:\n",
    "\n",
    "\n",
    "```python\n",
    "start = \"YYYY-MM-DDTHH:MM:HHZ\"\n",
    "end = \"YYYY-MM-DDTHH:MM:HHZ\"\n",
    "```\n",
    "\n",
    "Define a bounding box using latitude and longitude as float in the following format:\n",
    "\n",
    "```python\n",
    "west = <degrees west>\n",
    "south = <degrees south>\n",
    "east = <degrees east>\n",
    "north = <degrees north>\n",
    "```\n",
    "\n",
    "Define a list of bands in the following format:\n",
    "\n",
    "```python\n",
    "bands = [\"Total precipitation\"]\n",
    "```"
   ]
  },
  {
   "cell_type": "code",
   "execution_count": 14,
   "id": "83c3b445-9d09-42f2-9b4c-198a5505ab57",
   "metadata": {
    "scrolled": true
   },
   "outputs": [],
   "source": [
    "# Define the start and end time for the data query\n",
    "start = \"2007-01-01T11:00:00Z\"\n",
    "end = \"2007-12-31T11:00:00Z\"\n",
    "\n",
    "# Define the bounding box for the data query\n",
    "west = -0.48\n",
    "south = 53.709\n",
    "east = -0.22\n",
    "north = 53.812\n",
    "\n",
    "# Define the bands for the data query\n",
    "bands = [\"Total precipitation\"]"
   ]
  },
  {
   "cell_type": "markdown",
   "id": "3ccf58f6",
   "metadata": {},
   "source": [
    "Plot the area to be queried using the `plot_with_bbox` functions."
   ]
  },
  {
   "cell_type": "code",
   "execution_count": 15,
   "id": "167fd876",
   "metadata": {},
   "outputs": [],
   "source": [
    "geodn_discovery.plot_with_bbox(west, south, east, north, zoom_start=5)"
   ]
  },
  {
   "cell_type": "markdown",
   "id": "8caf913d",
   "metadata": {},
   "source": [
    "Use the `query` function to perform the data query given the chosen parameters. Note that the `temporal_extent` argument expects a dictionary in the form:\n",
    "\n",
    "```python\n",
    "{\"start\": start, \"end\": end}\n",
    "```\n",
    "\n",
    "and that the `spatial_extent` argument expects a dictionary in the form:\n",
    "\n",
    "```python\n",
    "{\"west\": west, \"south\": south, \"east\": east, \"north\": north}\n",
    "```\n",
    "\n",
    "The `query` function will return a data cube if successful."
   ]
  },
  {
   "cell_type": "code",
   "execution_count": 16,
   "id": "ed3a880e",
   "metadata": {},
   "outputs": [],
   "source": [
    "data_cube = geodn_discovery.query(\n",
    "    collection_id = collection_id, \n",
    "    bands = bands, \n",
    "    temporal_extent = {\"start\": start, \"end\": end},\n",
    "    spatial_extent = {\"west\": west, \"south\": south, \"east\": east, \"north\": north},\n",
    ")"
   ]
  },
  {
   "cell_type": "markdown",
   "id": "d2260239",
   "metadata": {},
   "source": [
    "Now that a query has been performed, there are 94 different processes that can be apply to manipulate the data, such as `mask`, `aggregate_spatial`, `filter_bbox`, `min_time` and `max_time`.\n",
    "\n",
    "Use the `list_processes` function to see all the different processes available."
   ]
  },
  {
   "cell_type": "code",
   "execution_count": 17,
   "id": "f87016cb-d96a-4d58-b365-6e296d94a95a",
   "metadata": {},
   "outputs": [],
   "source": [
    "geodn_discovery.list_processes()"
   ]
  },
  {
   "cell_type": "markdown",
   "id": "99a8d5d6",
   "metadata": {},
   "source": [
    "Let's try the `max_time` process which computes the largest value of an array of numbers, which is equal to the first element of a sorted (i.e., ordered) version of the array."
   ]
  },
  {
   "cell_type": "code",
   "execution_count": 18,
   "id": "068d8b50-ca7b-44e7-a854-2311ab8f43f9",
   "metadata": {},
   "outputs": [],
   "source": [
    "data_cube_max = data_cube.max_time()\n",
    "data_cube_max"
   ]
  },
  {
   "cell_type": "markdown",
   "id": "4c95e0b4",
   "metadata": {},
   "source": [
    "***\n",
    "# 4. Download and plot the data\n",
    "Save the data query results using the `save` functions. The `save` function takes two arguments and one optional argument, the data cube to be save, the name of the file to save to and optionally, a boolean to indicate if the file should be saved even if it already exists. By default the results are save to a directory called `data` in the current working directory. If this directory doesn't exist, it is created. If the `force` parameter is not set, or set to `False`, the file will only be save if it does not already exist. If it is set to `True`, the file will be created and saved each time.\n",
    "\n",
    "Alternatively, it is possible to specify a particular directory to save the data cube to using the format:\n",
    "\n",
    "```python\n",
    "filename = \"total_precip.nc\"\n",
    "data_dir = \"my_dir/\n",
    "geodn_discovery.save(data_cube_max, filename, data_dir)\n",
    "```"
   ]
  },
  {
   "cell_type": "code",
   "execution_count": 19,
   "id": "ca7ce9b5-afa7-420f-88ab-27b8ff7f57e4",
   "metadata": {},
   "outputs": [],
   "source": [
    "filename = \"total_precip.nc\"\n",
    "geodn_discovery.save(data_cube_max, filename, force=True)"
   ]
  },
  {
   "cell_type": "markdown",
   "id": "0190f70c",
   "metadata": {},
   "source": [
    "Use the `open_datacube` function to load data cube from file into an xarry object."
   ]
  },
  {
   "cell_type": "code",
   "execution_count": 20,
   "id": "652b5a21-4e34-4abf-a4b7-c056b383e9a6",
   "metadata": {},
   "outputs": [],
   "source": [
    "path = \"data/\" + filename\n",
    "x_data = geodn_discovery.open_datacube(path)\n",
    "x_data"
   ]
  },
  {
   "cell_type": "markdown",
   "id": "1fc19a3f",
   "metadata": {},
   "source": [
    "Finally, let's use the `plot` function to plot the data from file."
   ]
  },
  {
   "cell_type": "code",
   "execution_count": 21,
   "id": "9dd6e233",
   "metadata": {},
   "outputs": [],
   "source": [
    "geodn_discovery.plot(path)"
   ]
  },
  {
   "cell_type": "markdown",
   "id": "bc645b66",
   "metadata": {},
   "source": [
    "***\n",
    "# 5. Explore more\n",
    "To extend the learning objectives already achieved here, take a look and explore different data sets, time periods, bands and locations to query data from.\n"
   ]
  },
  {
   "cell_type": "markdown",
   "id": "6bb551b8",
   "metadata": {},
   "source": [
    "***\n",
    "# 6. Up next\n",
    "Next we will show you how to run a workflow.\n"
   ]
  }
 ],
 "metadata": {
  "kernelspec": {
   "display_name": "Python 3 (ipykernel)",
   "language": "python",
   "name": "python3"
  },
  "language_info": {
   "codemirror_mode": {
    "name": "ipython",
    "version": 3
   },
   "file_extension": ".py",
   "mimetype": "text/x-python",
   "name": "python",
   "nbconvert_exporter": "python",
   "pygments_lexer": "ipython3",
   "version": "3.8.15"
  }
 },
 "nbformat": 4,
 "nbformat_minor": 5
}
