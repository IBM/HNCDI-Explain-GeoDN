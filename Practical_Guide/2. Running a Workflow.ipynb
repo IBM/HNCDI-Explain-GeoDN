{
 "cells": [
  {
   "cell_type": "markdown",
   "id": "e12b3d5f",
   "metadata": {},
   "source": [
    "# GeoDN Course 1: Practical Guide to Geospatial Data #\n",
    "> Copyright (c) 2024 International Business Machines Corporation\n",
    "\n",
    "> This software is released under the MIT License.\n",
    "> https://opensource.org/licenses/MIT\n",
    "\n",
    "# Session 2 - Running a workflow with GeoDN\n",
    "\n",
    "\n",
    "In this notebook, you will learn how to:\n",
    "\n",
    "- (1) Connect to the GeoDN Modelling service.\n",
    "\n",
    "Once connected to the GeoDN Modelling service you will be able to browse the GeoDN Modeling catalogue, submit workflow runs, view and download results. We'll get hands on with this in the next part of the course. For now, we'll just show you what is possible."
   ]
  },
  {
   "cell_type": "markdown",
   "id": "78a11c42",
   "metadata": {},
   "source": [
    "### Prepare\n",
    "Load the `geodn.modeling` module. We also need to using the python package `os` so let's import that too."
   ]
  },
  {
   "cell_type": "code",
   "execution_count": null,
   "id": "15f9e699-00f4-470a-872c-ae5eaa90439c",
   "metadata": {},
   "outputs": [],
   "source": [
    "from geodn.modeling import workflow\n",
    "import os"
   ]
  },
  {
   "cell_type": "markdown",
   "id": "bc8b3144",
   "metadata": {},
   "source": [
    "### Authenticate to GeoDN\n",
    "\n",
    "To authenticate to the GeoDN services, add your username and password to the file `~/geodn-creds`, which can be found in the home folder. The format should be `your-username:your-password`. \n",
    "\n",
    "Once updated, we can use the `getToken()` function to get an authentication token which will later be used to access the GeoDN services. The `get_token()` function takes three parameters, `username`, `password` and `geodn_modeling_url`, which are your username, your password and the URL of the GeoDN backend service to connect to, respecitvely. \n",
    "\n",
    "These tokens will expire after 24 hours. To also return a refresh_token, pass `refresh=True` to `getToken()`."
   ]
  },
  {
   "cell_type": "code",
   "execution_count": null,
   "id": "7f02dc6e",
   "metadata": {},
   "outputs": [],
   "source": [
    "with open(\"..\" + '/geodn-creds', 'r') as file:\n",
    "    data = file.read().rstrip()\n",
    "    username = data.split(':')[0]\n",
    "    password = data.split(':')[1]\n",
    "\n",
    "assert username and password\n",
    "\n",
    "# Get the tokens\n",
    "id_token, access_token = workflow.get_token(username, password, geodn_modeling_url=os.environ[\"GEODN_URL\"])\n",
    "assert id_token and access_token\n",
    "\n",
    "\n",
    "print(os.environ[\"GEODN_URL\"])\n",
    "# To also recieve a refresh token, use the following\n",
    "# id_token, access_token, refresh_token = workflow.get_token(username, password, geodn_modeling_url=os.environ[\"GEODN_URL\"], refresh=True)\n"
   ]
  },
  {
   "cell_type": "markdown",
   "id": "68421bcf",
   "metadata": {},
   "source": [
    "### Connect to GeoDN modeling\n",
    "\n",
    "And finally, we can connect to the GeoDN Modeling service. Here you will pass the token and create the connection to the GeoDN Modeling APIs. This will allow you to submit models to the cluster, check status, access logs and download files.\n",
    "\n",
    "To determine which backend service to connect to, we use the arguments `api_url`, `core_url` and `workflow_url`. These have been set as environment variables but can be configured if in the future you require a connection to a different backend service. "
   ]
  },
  {
   "cell_type": "code",
   "execution_count": null,
   "id": "21d5919b",
   "metadata": {},
   "outputs": [],
   "source": [
    "geodn_modelling = workflow.GeoDN_Modeling(\n",
    "    bearer_token=id_token,\n",
    "    api_url=os.environ[\"GEODN_URL\"],\n",
    "    core_url=os.environ[\"GEODN_CORE_URL\"],\n",
    "    workflow_url=os.environ[\"GEODN_WORKFLOW_URL\"],\n",
    ")"
   ]
  },
  {
   "cell_type": "markdown",
   "id": "6fc55fd8",
   "metadata": {},
   "source": [
    "Sometimes, we can see errors returned from this function. If this is the case, it maybe that the `id_token` has expired and needs to be regenerated. Re-run the `get_token` function to generate a new token."
   ]
  },
  {
   "cell_type": "markdown",
   "id": "e0fa0529",
   "metadata": {},
   "source": [
    "Now that we have connected to the GeoDN Modelling service, we can take a look at putting these to use in the sections below."
   ]
  },
  {
   "cell_type": "markdown",
   "id": "6bb551b8",
   "metadata": {},
   "source": [
    "***\n",
    "# Up next\n",
    "Next we will give you a brief introduction to browsing the GeoDN Modelling catalogue and submitting a workflow run to the catalogue.\n"
   ]
  }
 ],
 "metadata": {
  "kernelspec": {
   "display_name": "Python 3 (ipykernel)",
   "language": "python",
   "name": "python3"
  },
  "language_info": {
   "codemirror_mode": {
    "name": "ipython",
    "version": 3
   },
   "file_extension": ".py",
   "mimetype": "text/x-python",
   "name": "python",
   "nbconvert_exporter": "python",
   "pygments_lexer": "ipython3",
   "version": "3.8.15"
  }
 },
 "nbformat": 4,
 "nbformat_minor": 5
}
